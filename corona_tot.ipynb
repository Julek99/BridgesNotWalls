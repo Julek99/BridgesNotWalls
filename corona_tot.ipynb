{
 "cells": [
  {
   "cell_type": "code",
   "execution_count": 1,
   "metadata": {},
   "outputs": [],
   "source": [
    "import numpy as np\n",
    "import pandas as pd\n",
    "import matplotlib.pyplot as plt"
   ]
  },
  {
   "cell_type": "code",
   "execution_count": 1,
   "metadata": {},
   "outputs": [],
   "source": [
    "import numpy as np\n",
    "import pandas as pd\n",
    "import matplotlib.pyplot as plt\n",
    "import json\n",
    "\n",
    "class scenario:\n",
    "    \n",
    "    def __init__(self, A, N, SIR, R0 = 2.2,T = 5.1, labels = None):\n",
    "        self.A = np.array(A).astype(\"double\")\n",
    "        self.A0 = A\n",
    "        self.Asum = np.sum(A,axis = 1)\n",
    "        self.N = np.array(N).astype(\"double\")\n",
    "        self.Ninv = np.reciprocal(self.N)\n",
    "        self.R = R0\n",
    "        self.T = T\n",
    "        self.beta = np.array([R0/T]*len(N))\n",
    "        self.gamma = np.array([1/T]*len(N))\n",
    "        self.labels = labels\n",
    "        if labels != None:\n",
    "            self.num = dict(zip(labels, range(len(labels))))\n",
    "        self.SIR = np.array(SIR)\n",
    "        \n",
    "    def dSIR(self, SIR_snap):\n",
    "        S,I,R = SIR_snap[0],SIR_snap[1],SIR_snap[2]\n",
    "        \n",
    "        def quant(X):\n",
    "            return np.dot(self.A,X*self.Ninv) - self.Asum*X*self.Ninv\n",
    "        \n",
    "        dS = -self.beta*I*S*self.Ninv + quant(S)\n",
    "        dI = self.beta*I*S*self.Ninv - self.gamma*I + quant(I)\n",
    "        dR = self.gamma*I + quant(R)\n",
    "        return np.array([dS,dI,dR])\n",
    "        \n",
    "    def march(self, nt):\n",
    "        SIR = np.zeros((nt,3,self.A.shape[0]))\n",
    "        SIR[0] = self.SIR[-1]\n",
    "        \n",
    "        for i in range(1,nt):\n",
    "            SIR[i] = SIR[i-1]+self.dSIR(SIR[i-1])\n",
    "        \n",
    "        self.SIR = np.array(self.SIR.tolist() + SIR.tolist()[1:])\n",
    "        \n",
    "    def update_R(self, pairs):\n",
    "        for (i,r) in pairs:\n",
    "            self.beta[self.num[i]] = r*self.gamma[self.num[i]]\n",
    "            \n",
    "    def borders(self, pairs):\n",
    "        for (c,b) in pairs:\n",
    "            if b:\n",
    "                self.A[self.num[c]] = self.A0[self.num[c]]\n",
    "            else:\n",
    "                self.A[self.num[c]] = np.zeros_like(self.A[self.num[c]])\n",
    "        \n",
    "    def plot(self, value = 1, as_percent = False):\n",
    "        plt.figure(figsize=(16,10))\n",
    "        for country in range(len(self.N)):\n",
    "            s = np.array(self.SIR)[:,value,country]\n",
    "            if as_percent:\n",
    "                s = s*self.Ninv[country]\n",
    "            plt.plot(range(len(s)),s)\n",
    "        if self.labels != None:\n",
    "            plt.legend(self.labels)\n",
    "        plt.show()\n",
    "                \n",
    "    def for_vis(self, value = 1, as_json = True):\n",
    "        vis = dict()\n",
    "        \n",
    "        for i in range(self.SIR.shape[0]):\n",
    "            dt = dict(zip(self.labels,(self.SIR[i,1,:]*self.Ninv*100).astype(int).tolist()))\n",
    "            vis[i] = dt\n",
    "            \n",
    "        return vis\n",
    "            \n",
    "\n",
    "def europe():\n",
    "    Labels = ['BE','BG','CZ','DK','DE','EE','IE','EL','ES','FR','HR','IT',\n",
    "      'CY','LV','LT','LU','HU','MT','NL','AT','PL','PT','RO','SI','SK','FI','SE','UK','NO','CH']\n",
    "    N = [11590,6948,10709,5792,83784,1327,4938,10427,46755,65274,4105,60462,1170,1886,2722,\n",
    "                         626,9660,442,17135,9006,37847,10197,19238,2078,5460,5541,10099,67886,5421,8655]\n",
    "    num = dict(zip(Labels, range(len(Labels))))\n",
    "    \n",
    "    A = pd.read_csv(\"thematrix.csv\" , header = None).values/(365*1000)\n",
    "    SIR0 = np.array([N]+[[0]*len(N)]*2)\n",
    "    inf = 100\n",
    "    SIR0[:,num['IT']] = [N[num['IT']]-inf,inf,0]\n",
    "\n",
    "    cs = scenario(A,N,[SIR0],labels = Labels)\n",
    "    cs.march(10)\n",
    "    cs.borders([('DE',False)])\n",
    "    cs.march(70)\n",
    "    cs.plot(1, as_percent = True)\n",
    "    \n",
    "    return cs\n",
    "    \n",
    "def inter(day, borders = None, SIR0 = None, max_days = 730):\n",
    "    Labels = ['BE','BG','CZ','DK','DE','EE','IE','EL','ES','FR','HR','IT',\n",
    "              'CY','LV','LT','LU','HU','MT','NL','AT','PL','PT','RO','SI','SK','FI','SE','UK','NO','CH']\n",
    "    N = [11590,6948,10709,5792,83784,1327,4938,10427,46755,65274,4105,60462,1170,1886,2722,\n",
    "         626,9660,442,17135,9006,37847,10197,19238,2078,5460,5541,10099,67886,5421,8655]\n",
    "    num = dict(zip(Labels, range(len(Labels))))\n",
    "    \n",
    "    A = pd.read_csv(\"thematrix.csv\" , header = None).values/(365*1000)\n",
    "\n",
    "    if SIR0 == None:\n",
    "        SIR0 = np.array([N]+[[0]*len(N)]*2)\n",
    "        inf = 100\n",
    "        SIR0[:,num['IT']] = [N[num['IT']]-inf,inf,0]\n",
    "        SIR == [SIR0]\n",
    "\n",
    "    cs = scenario(A,N,SIR,labels = Labels)\n",
    "\n",
    "    if borders != None:\n",
    "        cs.borders([(x,False) for x in borders])\n",
    "\n",
    "    cs.march(max_days - day)\n",
    "    \n",
    "    fur_martin = {\"send_back\": cs.SIR.tolist(), \"frames\": cs.for_vis()}\n",
    "    \n",
    "    return json.dumps(fur_martin)"
   ]
  },
  {
   "cell_type": "code",
   "execution_count": 2,
   "metadata": {},
   "outputs": [
    {
     "ename": "NameError",
     "evalue": "name 'SIR0' is not defined",
     "output_type": "error",
     "traceback": [
      "\u001b[0;31m---------------------------------------------------------------------------\u001b[0m",
      "\u001b[0;31mNameError\u001b[0m                                 Traceback (most recent call last)",
      "\u001b[0;32m<ipython-input-2-f686b1034918>\u001b[0m in \u001b[0;36m<module>\u001b[0;34m\u001b[0m\n\u001b[0;32m----> 1\u001b[0;31m \u001b[0meurope\u001b[0m\u001b[0;34m(\u001b[0m\u001b[0;34m)\u001b[0m\u001b[0;34m\u001b[0m\u001b[0;34m\u001b[0m\u001b[0m\n\u001b[0m",
      "\u001b[0;32m<ipython-input-1-9c617f810221>\u001b[0m in \u001b[0;36meurope\u001b[0;34m()\u001b[0m\n\u001b[1;32m     85\u001b[0m     \u001b[0mSIR0\u001b[0m\u001b[0;34m[\u001b[0m\u001b[0;34m:\u001b[0m\u001b[0;34m,\u001b[0m\u001b[0mnum\u001b[0m\u001b[0;34m[\u001b[0m\u001b[0;34m'IT'\u001b[0m\u001b[0;34m]\u001b[0m\u001b[0;34m]\u001b[0m \u001b[0;34m=\u001b[0m \u001b[0;34m[\u001b[0m\u001b[0mN\u001b[0m\u001b[0;34m[\u001b[0m\u001b[0mnum\u001b[0m\u001b[0;34m[\u001b[0m\u001b[0;34m'IT'\u001b[0m\u001b[0;34m]\u001b[0m\u001b[0;34m]\u001b[0m\u001b[0;34m-\u001b[0m\u001b[0minf\u001b[0m\u001b[0;34m,\u001b[0m\u001b[0minf\u001b[0m\u001b[0;34m,\u001b[0m\u001b[0;36m0\u001b[0m\u001b[0;34m]\u001b[0m\u001b[0;34m\u001b[0m\u001b[0;34m\u001b[0m\u001b[0m\n\u001b[1;32m     86\u001b[0m \u001b[0;34m\u001b[0m\u001b[0m\n\u001b[0;32m---> 87\u001b[0;31m     \u001b[0mcs\u001b[0m \u001b[0;34m=\u001b[0m \u001b[0mscenario\u001b[0m\u001b[0;34m(\u001b[0m\u001b[0mA\u001b[0m\u001b[0;34m,\u001b[0m\u001b[0mN\u001b[0m\u001b[0;34m,\u001b[0m\u001b[0;34m[\u001b[0m\u001b[0mSIR0\u001b[0m\u001b[0;34m]\u001b[0m\u001b[0;34m,\u001b[0m\u001b[0mlabels\u001b[0m \u001b[0;34m=\u001b[0m \u001b[0mLabels\u001b[0m\u001b[0;34m)\u001b[0m\u001b[0;34m\u001b[0m\u001b[0;34m\u001b[0m\u001b[0m\n\u001b[0m\u001b[1;32m     88\u001b[0m     \u001b[0mcs\u001b[0m\u001b[0;34m.\u001b[0m\u001b[0mmarch\u001b[0m\u001b[0;34m(\u001b[0m\u001b[0;36m10\u001b[0m\u001b[0;34m)\u001b[0m\u001b[0;34m\u001b[0m\u001b[0;34m\u001b[0m\u001b[0m\n\u001b[1;32m     89\u001b[0m     \u001b[0mcs\u001b[0m\u001b[0;34m.\u001b[0m\u001b[0mborders\u001b[0m\u001b[0;34m(\u001b[0m\u001b[0;34m[\u001b[0m\u001b[0;34m(\u001b[0m\u001b[0;34m'DE'\u001b[0m\u001b[0;34m,\u001b[0m\u001b[0;32mFalse\u001b[0m\u001b[0;34m)\u001b[0m\u001b[0;34m]\u001b[0m\u001b[0;34m)\u001b[0m\u001b[0;34m\u001b[0m\u001b[0;34m\u001b[0m\u001b[0m\n",
      "\u001b[0;32m<ipython-input-1-9c617f810221>\u001b[0m in \u001b[0;36m__init__\u001b[0;34m(self, A, N, SIR, R0, T, labels)\u001b[0m\n\u001b[1;32m     19\u001b[0m         \u001b[0;32mif\u001b[0m \u001b[0mlabels\u001b[0m \u001b[0;34m!=\u001b[0m \u001b[0;32mNone\u001b[0m\u001b[0;34m:\u001b[0m\u001b[0;34m\u001b[0m\u001b[0;34m\u001b[0m\u001b[0m\n\u001b[1;32m     20\u001b[0m             \u001b[0mself\u001b[0m\u001b[0;34m.\u001b[0m\u001b[0mnum\u001b[0m \u001b[0;34m=\u001b[0m \u001b[0mdict\u001b[0m\u001b[0;34m(\u001b[0m\u001b[0mzip\u001b[0m\u001b[0;34m(\u001b[0m\u001b[0mlabels\u001b[0m\u001b[0;34m,\u001b[0m \u001b[0mrange\u001b[0m\u001b[0;34m(\u001b[0m\u001b[0mlen\u001b[0m\u001b[0;34m(\u001b[0m\u001b[0mlabels\u001b[0m\u001b[0;34m)\u001b[0m\u001b[0;34m)\u001b[0m\u001b[0;34m)\u001b[0m\u001b[0;34m)\u001b[0m\u001b[0;34m\u001b[0m\u001b[0;34m\u001b[0m\u001b[0m\n\u001b[0;32m---> 21\u001b[0;31m         \u001b[0mself\u001b[0m\u001b[0;34m.\u001b[0m\u001b[0mSIR\u001b[0m \u001b[0;34m=\u001b[0m \u001b[0mnp\u001b[0m\u001b[0;34m.\u001b[0m\u001b[0marray\u001b[0m\u001b[0;34m(\u001b[0m\u001b[0mSIR0\u001b[0m\u001b[0;34m)\u001b[0m\u001b[0;34m\u001b[0m\u001b[0;34m\u001b[0m\u001b[0m\n\u001b[0m\u001b[1;32m     22\u001b[0m \u001b[0;34m\u001b[0m\u001b[0m\n\u001b[1;32m     23\u001b[0m     \u001b[0;32mdef\u001b[0m \u001b[0mdSIR\u001b[0m\u001b[0;34m(\u001b[0m\u001b[0mself\u001b[0m\u001b[0;34m,\u001b[0m \u001b[0mSIR_snap\u001b[0m\u001b[0;34m)\u001b[0m\u001b[0;34m:\u001b[0m\u001b[0;34m\u001b[0m\u001b[0;34m\u001b[0m\u001b[0m\n",
      "\u001b[0;31mNameError\u001b[0m: name 'SIR0' is not defined"
     ]
    }
   ],
   "source": [
    "europe()"
   ]
  },
  {
   "cell_type": "code",
   "execution_count": 4,
   "metadata": {},
   "outputs": [
    {
     "ename": "ValueError",
     "evalue": "all the input array dimensions for the concatenation axis must match exactly, but along dimension 1, the array at index 0 has size 3 and the array at index 1 has size 2",
     "output_type": "error",
     "traceback": [
      "\u001b[0;31m---------------------------------------------------------------------------\u001b[0m",
      "\u001b[0;31mValueError\u001b[0m                                Traceback (most recent call last)",
      "\u001b[0;32m<ipython-input-4-aab36e233542>\u001b[0m in \u001b[0;36m<module>\u001b[0;34m\u001b[0m\n\u001b[1;32m      1\u001b[0m \u001b[0ma\u001b[0m \u001b[0;34m=\u001b[0m \u001b[0mnp\u001b[0m\u001b[0;34m.\u001b[0m\u001b[0marray\u001b[0m\u001b[0;34m(\u001b[0m\u001b[0;34m[\u001b[0m\u001b[0;34m[\u001b[0m\u001b[0;36m1\u001b[0m\u001b[0;34m,\u001b[0m\u001b[0;36m2\u001b[0m\u001b[0;34m,\u001b[0m\u001b[0;36m3\u001b[0m\u001b[0;34m]\u001b[0m\u001b[0;34m]\u001b[0m\u001b[0;34m)\u001b[0m\u001b[0;34m\u001b[0m\u001b[0;34m\u001b[0m\u001b[0m\n\u001b[0;32m----> 2\u001b[0;31m \u001b[0mnp\u001b[0m\u001b[0;34m.\u001b[0m\u001b[0mconcatenate\u001b[0m\u001b[0;34m(\u001b[0m\u001b[0;34m(\u001b[0m\u001b[0ma\u001b[0m\u001b[0;34m,\u001b[0m\u001b[0;34m[\u001b[0m\u001b[0;34m[\u001b[0m\u001b[0;36m4\u001b[0m\u001b[0;34m,\u001b[0m\u001b[0;36m5\u001b[0m\u001b[0;34m]\u001b[0m\u001b[0;34m]\u001b[0m\u001b[0;34m)\u001b[0m\u001b[0;34m,\u001b[0m \u001b[0maxis\u001b[0m \u001b[0;34m=\u001b[0m \u001b[0;36m0\u001b[0m\u001b[0;34m)\u001b[0m\u001b[0;34m\u001b[0m\u001b[0;34m\u001b[0m\u001b[0m\n\u001b[0m",
      "\u001b[0;32m<__array_function__ internals>\u001b[0m in \u001b[0;36mconcatenate\u001b[0;34m(*args, **kwargs)\u001b[0m\n",
      "\u001b[0;31mValueError\u001b[0m: all the input array dimensions for the concatenation axis must match exactly, but along dimension 1, the array at index 0 has size 3 and the array at index 1 has size 2"
     ]
    }
   ],
   "source": [
    "a = np.array([[1,2,3]])\n",
    "np.concatenate((a,[[4,5]]), axis = 0)"
   ]
  },
  {
   "cell_type": "code",
   "execution_count": null,
   "metadata": {},
   "outputs": [],
   "source": []
  }
 ],
 "metadata": {
  "kernelspec": {
   "display_name": "Python 3",
   "language": "python",
   "name": "python3"
  },
  "language_info": {
   "codemirror_mode": {
    "name": "ipython",
    "version": 3
   },
   "file_extension": ".py",
   "mimetype": "text/x-python",
   "name": "python",
   "nbconvert_exporter": "python",
   "pygments_lexer": "ipython3",
   "version": "3.7.4"
  }
 },
 "nbformat": 4,
 "nbformat_minor": 2
}
